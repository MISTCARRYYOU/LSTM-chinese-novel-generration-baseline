{
 "cells": [
  {
   "cell_type": "code",
   "execution_count": 1,
   "metadata": {},
   "outputs": [
    {
     "name": "stdout",
     "output_type": "stream",
     "text": [
      "data has 17833 characters, 1453 unique.\n"
     ]
    },
    {
     "name": "stderr",
     "output_type": "stream",
     "text": [
      "c:\\users\\administrator\\appdata\\local\\programs\\python\\python37\\lib\\site-packages\\scipy\\sparse\\_index.py:126: SparseEfficiencyWarning: Changing the sparsity structure of a csr_matrix is expensive. lil_matrix is more efficient.\n",
      "  self._set_arrayXarray(i, j, x)\n"
     ]
    }
   ],
   "source": [
    "from scipy.sparse import csr_matrix\n",
    "import numpy as np\n",
    "\n",
    "with open(r'D:\\课程\\博一下\\NLP\\越女剑.txt', 'r', encoding='utf-8') as f:\n",
    "    data = f.readlines()\n",
    "data=''.join(data)\n",
    "\n",
    "# Get unique chars\n",
    "chars = list(set(data))\n",
    "# Get doc length and charset size\n",
    "data_size, vocab_size = len(data), len(chars)\n",
    "print(f'data has {data_size} characters, {vocab_size} unique.')\n",
    "char_to_ix = { ch:i for i,ch in enumerate(chars)}\n",
    "ix_to_char = { i:ch for i,ch in enumerate(chars)}\n",
    "\n",
    "X_train = csr_matrix((len(data), len(chars)), dtype=np.int)\n",
    "char_id = np.array([chars.index(c) for c in data])\n",
    "X_train[np.arange(len(data)), char_id] = 1\n",
    "y_train = np.roll(char_id,-1)"
   ]
  },
  {
   "cell_type": "code",
   "execution_count": 3,
   "metadata": {
    "scrolled": false
   },
   "outputs": [
    {
     "name": "stdout",
     "output_type": "stream",
     "text": [
      "数据集大小： (17833, 1453) (17833,)\n",
      "finetuning!\n",
      "当前学习率： 0.05\n",
      "epoch: 1 ----\n",
      "Running Avg Loss:0.09127378463745117 at iter: 1\n",
      "----\n",
      "本书来自www.com免费txt小说下载前后：“范贤弟，还要com\n",
      "　　清啸迅捷之极的远不随\n",
      "　　怔的瞧所握长剑在这人一张脸庞上了。\n",
      "　　范蠡心下\n",
      "　　霎时，任何其他的念头都不见夷光，跟着玩，他来到她，长剑中有两片的牡热的血同双手持大剑术，带着一\n",
      "　　袭价小\n",
      "　　春夜的凉亭中殷\n",
      "　　一千名甲士声三口。想剑士连声狂吼，不清澈，真是愤怒。范蠡叫道：“我正是谁教什么？”断了顺水漂流，连许百片的声朵小红花\n",
      "epoch: 1 ----\n",
      "Running Avg Loss:2.8294172782599927 at iter: 501\n",
      "----\n",
      "是便是不听，心。”阿青三名年青应道：“我子……我要杀的戳向和羊少女早知道：“我这位说道：“乡下姑娘，我赔你你为甚么杀我要一你家里有大草地，我家里有大草地，我家里有大草地，我家里有大草地，我家里有大草地，我家里有大草地，我家里有大草地，我家里有大草地礼。”\n",
      "　　老白，乖老白吃了来吃\n",
      "　　阿青扑，这大好吃，我\n",
      "　　天真中飘去说道：“你来杀，我赔你不赔你真是个气，双明的瞧挥救国，你不许他们把老白的“我家\n",
      "当前学习率： 0.025\n",
      "epoch: 2 ----\n",
      "Running Avg Loss:2.8287259490489958 at iter: 1001\n",
      "----\n",
      "说道：“喝道：“着他脑袋砍了出来。\n",
      "　　赠你师兄的，只五口宝光，不止宫六七剑了越国。第九术却又有好，连输乃敝国新铸，好人家中，第一之极是的剑法，事鬼神，决不便派自三\n",
      "　　币，师曾能万剑斩口的。”勾践道：“原来将一惊又有身子，当二人。”\n",
      "　　勾践道：“这等铸剑则大夫之是咩咩的剑。\n",
      "　　薛烛。\n",
      "　　勾践道：“劲越王但根竹棒便前阿青衣剑。”薛烛道：“口夫无实了其是楚国吴国，后剑。”勾践道：“坐\n",
      "　　我要\n",
      "当前学习率： 0.016666666666666666\n",
      "epoch: 3 ----\n",
      "Running Avg Loss:2.149970999956131 at iter: 1501\n",
      "----\n",
      "笑道：“衣剑士嘿嘿一起中，躬身行过无不来找他。青衣剑士腕。他长剑，将人脉管中一子缝了神。不\n",
      "　　这声音乐的锦衫剑法过去，显然人必须尽快礼所住的神，心口感到这样。\n",
      "　　青衣剑入了他的青衣剑一挥，将剑乃无不费中得他忍来，\n",
      "　　一连剑劲青\n",
      "　　剑向地。青衣剑士柄三步，只听得她喝道：“你也回里，而立。锦衫剑士，一道好人都齐，\n",
      "　　“范蠡，两人身子缝了条手举，剑不住倒也不由得剑锋锐长，从前这剑一吴士提长剑道\n",
      "epoch: 3 ----\n",
      "Running Avg Loss:1.6079846745729447 at iter: 2001\n",
      "----\n",
      "能跟他起吴越剑士又啊，我十道：“\n",
      "　　想是西施，向那开了声道：“那明亮，对方的大范蠡自己手他的的吴国剑士的\n",
      "　　丧，是我从左上得他见这少女不会忘着她白雪久没吴士的竹棒已声\n",
      "　　，一根竹棒刺去。\n",
      "　　范蠡我\n",
      "　　范蠡我妈和我跟她的西施，不要阿他奇听了起吃去之阿青拆叫，倒在清澈的，所用兵刃.cr173.com\n",
      "　　啊名青衣剑士从下。众位剑士道：“我见这阿青赶羊玩了道：“好老白的白公公\n",
      "　　她的长种，连\n",
      "当前学习率： 0.0125\n",
      "epoch: 4 ----\n",
      "Running Avg Loss:1.4300035352110863 at iter: 2501\n",
      "----\n",
      "要溶在会稽，身子尚子胥奇怪，有十，也是一口么，都是在危叫，风师兄承受。”\n",
      "　　勾践召薛烛道：“伍子胥虽然诡计多端，别说话，也不住”范蠡道：“小人世大夫：为楚国所铸，有如狼嗥，阖庐以已齐百姓采锡和西施。\n",
      "　　他笑更多少次剑匠，他笑了自须收：“小\n",
      "　　师兄的纯钧、湛卢、胜邪以如此了，\n",
      "　　替风师哥来召小人曾言道师，听得伍子胥胜为楚，是言谈还哈哈大夫共。风师兄言道吴越将花园中透过\n",
      "　　杀看。”勾践道：“\n",
      "当前学习率： 0.010000000000000002\n",
      "epoch: 5 ----\n",
      "Running Avg Loss:1.194021679610014 at iter: 3001\n",
      "----\n",
      "，将他右臂齐肩削落，背\n",
      "　两名青衣剑士的剑法，飞，勾践\n",
      "　　定了，却也有十名越国剑士长剑剑出。突然去。那在地下。那名卫士在可边。锦衫剑士道：“我\n",
      "　　住了人剑，\n",
      "　　若不见，又得两名青衣剑士虽是刺中，另外两名青衣剑士齐声对过剑\n",
      "　　半干杀的声。\n",
      "　　“好人。”薛烛磕头道：“若是手守势的两场，不住敌手削断。锦衫剑士后，另外两名青衣剑劈为专下的对两个越王昔日为夫差派\n",
      "　　越宫门外，月剑不肯来。我青衣剑\n",
      "epoch: 5 ----\n",
      "Running Avg Loss:0.9872925525903702 at iter: 3501\n",
      "----\n",
      "咯咯娇笑，\n",
      "　　我们已失了文种，显然\n",
      "　　之下敌大极厚礼，在长廊彼端，音乐般的脚下击，吴国剑士\n",
      "　　玩，女竹棒蹲乃是啊。这人来跟我玩了。\n",
      "　　这见过了良久。当真是剑之在山。\n",
      "　　范蠡手下的第九天下吴越剑士，这次\n",
      "　　让同伴以高手。但常兵法战之战，请医生医治伤目道：“端，……她天真烂漫，既是叫道：“我叫阿青与站\n",
      "身来。他铸看出破窗\n",
      "　　从头鲜艳的好棒笑。他手矫笑了？”\n",
      "　　阿青的锦衫剑士和道：“范大\n",
      "训练完成\n"
     ]
    },
    {
     "data": {
      "image/png": "[encoded data removed]",
      "text/plain": [
       "<Figure size 432x288 with 1 Axes>"
      ]
     },
     "metadata": {
      "needs_background": "light"
     },
     "output_type": "display_data"
    },
    {
     "name": "stdout",
     "output_type": "stream",
     "text": [
      "173.com﻿另一只眼睛，每一士所能明\n",
      "　　道：“范大夫，你打断了它。”后来回\n",
      "　　他的乡下姑娘，我要杀我来找我，出来没去找他的一声来。”阿青将羊快越阿青将过了个高坐了。”\n",
      "　　十二三次，要杀要杀了风。青衣\n",
      "　　王明亮如秋水里。他\n",
      "　　纤纤，连鼻子也不能随少便欺侮人。\n",
      "　　这少女子扑倒说过力来，只得对手招数已成一\n",
      "　　。\n",
      "　　十见到欧治子到她但一起了手，浅绿色布衫，直在会的脸上了神情坦率，而退。\n"
     ]
    }
   ],
   "source": [
    "from util import *\n",
    "from scipy.sparse import csr_matrix\n",
    "from Model import nn_LSTM\n",
    "from torch.optim.lr_scheduler import LambdaLR\n",
    "import os\n",
    "import argparse\n",
    "\n",
    "\n",
    "print(\"数据集大小：\", X_train.shape, y_train.shape)\n",
    "\n",
    "is_test = False\n",
    "hidden_size = 256\n",
    "seq_length = 25\n",
    "EPOCHS = 5\n",
    "\n",
    "\n",
    "rnn = nn_LSTM(vocab_size, hidden_size, vocab_size)\n",
    "\n",
    "# 看是否有训练差不多的模型\n",
    "if os.path.exists(\"source/save_model.pth\"):\n",
    "    print(\"finetuning!\")\n",
    "    checkpoint = torch.load(\"source/save_model.pth\")\n",
    "    rnn.load_state_dict(checkpoint)\n",
    "    # rnn.load_state_dict(torch.load('source/save_model.pth'))\n",
    "\n",
    "if is_test:  # 直接测试\n",
    "    for batch in get_batch(X_train, y_train, seq_length):\n",
    "        X_batch, y_batch = batch\n",
    "    rnn.load_state_dict(torch.load('source/save_model.pth'))\n",
    "    print(sample_chars(rnn, X_batch[0], rnn.initHidden_test(), chars, 200))\n",
    "\n",
    "else:# 开始训练过程\n",
    "    rnn = rnn.cuda()  # 使用gpu\n",
    "    loss_fn = nn.CrossEntropyLoss().cuda()\n",
    "    optimizer = torch.optim.Adam([{'params': rnn.parameters(), 'initial_lr': 0.05}], lr=0.05)\n",
    "\n",
    "    scheduler = LambdaLR(optimizer, lr_lambda=lambda epoch: 1 / (epoch + 1))    # 训练模型\n",
    "    all_losses = []\n",
    "    print_every = 500\n",
    "    for epoch in range(EPOCHS):\n",
    "        print(\"当前学习率：\", optimizer.param_groups[0]['lr'])\n",
    "        for batch in get_batch(X_train, y_train, seq_length):\n",
    "            X_batch, y_batch = batch\n",
    "            # print(X_batch, y_batch)\n",
    "            X_batch, y_batch = X_batch.cuda(), y_batch.cuda()\n",
    "            _, batch_loss = train(X_batch, y_batch, rnn, optimizer, loss_fn)\n",
    "            batch_loss = batch_loss.cpu()\n",
    "            all_losses.append(batch_loss.item())\n",
    "            if len(all_losses) % print_every == 1:\n",
    "                print(\"epoch:\", epoch+1, f'----\\nRunning Avg Loss:{np.mean(all_losses[-print_every:])} at iter: {len(all_losses)}\\n----')\n",
    "                print(sample_chars(rnn, X_batch[0], rnn.initHidden(), chars, 200))\n",
    "        scheduler.step()\n",
    "        # 每过一个epoch保存一次模型\n",
    "        torch.save(rnn.state_dict(), 'source/save_model.pth')\n",
    "    print(\"训练完成\")\n",
    "    plot_loss(all_losses)\n",
    "    print(sample_chars(rnn, X_batch[0], rnn.initHidden(), chars, 200))"
   ]
  }
 ],
 "metadata": {
  "kernelspec": {
   "display_name": "Python 3",
   "language": "python",
   "name": "python3"
  },
  "language_info": {
   "codemirror_mode": {
    "name": "ipython",
    "version": 3
   },
   "file_extension": ".py",
   "mimetype": "text/x-python",
   "name": "python",
   "nbconvert_exporter": "python",
   "pygments_lexer": "ipython3",
   "version": "3.7.0"
  }
 },
 "nbformat": 4,
 "nbformat_minor": 4
}
